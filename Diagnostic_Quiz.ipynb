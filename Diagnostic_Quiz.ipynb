{
  "nbformat": 4,
  "nbformat_minor": 0,
  "metadata": {
    "colab": {
      "provenance": [],
      "authorship_tag": "ABX9TyPHrY2rGuknJTVwaBa/05LO",
      "include_colab_link": true
    },
    "kernelspec": {
      "name": "python3",
      "display_name": "Python 3"
    },
    "language_info": {
      "name": "python"
    }
  },
  "cells": [
    {
      "cell_type": "markdown",
      "metadata": {
        "id": "view-in-github",
        "colab_type": "text"
      },
      "source": [
        "<a href=\"https://colab.research.google.com/github/mccoy294/Quantum-Information-Science/blob/main/Diagnostic_Quiz.ipynb\" target=\"_parent\"><img src=\"https://colab.research.google.com/assets/colab-badge.svg\" alt=\"Open In Colab\"/></a>"
      ]
    },
    {
      "cell_type": "markdown",
      "source": [
        "#Diagnostic Quiz for QIS Program**\n",
        "\n",
        "Abstract\n",
        "I have shown you where the form is that allows you to interact with this\n",
        "quiz. I have also shown you how to put this quiz together in Colab, and\n",
        "then start writing answers so you can subsequently submit it for credit,\n",
        "in your repository. Below I just enumerate the items in the quiz, so we\n",
        "can use this document as a(n independent, separate format) reference."
      ],
      "metadata": {
        "id": "SkGgGHddMUpW"
      }
    },
    {
      "cell_type": "markdown",
      "source": [
        "**Problem 1: What is the magnitude of $2 - \\sqrt{2}i$?**\n",
        "\n",
        "Answer:"
      ],
      "metadata": {
        "id": "D-voqiOoMtOM"
      }
    },
    {
      "cell_type": "markdown",
      "source": [
        "**Problem 2: What is the complex conjugate of $e^\\frac{\\pi i}{3}$?**\n",
        "\n",
        "Answer:"
      ],
      "metadata": {
        "id": "HlerH6atNWgk"
      }
    },
    {
      "cell_type": "markdown",
      "source": [
        "**Problem 3:\n",
        "Compute $\\begin{pmatrix}\n",
        "-1&1\\\\\n",
        "3&-1\n",
        "\\end{pmatrix} \\cdot\n",
        "\\begin{pmatrix}\n",
        "0&1\\\\\n",
        "2&0\n",
        "\\end{pmatrix}$**\n",
        "\n",
        "Answer:"
      ],
      "metadata": {
        "id": "6VHDD6llNpyE"
      }
    },
    {
      "cell_type": "markdown",
      "source": [
        "**Problem 4: Determine which pairs of matrices below commute.**\n",
        "\n",
        "**(Matrices $A$ and $B$ are said to commute if $AB=BA$).**\n",
        "\n",
        "(a) $$ \\begin{pmatrix}\n",
        "0 & 1\\\\\n",
        "1 & 0\n",
        "\\end{pmatrix} \\textrm{and} \\begin{pmatrix}\n",
        "1 & 0\\\\\n",
        "0 & 1\n",
        "\\end{pmatrix}$$\n",
        "\n",
        "(b) $$\\begin{pmatrix}\n",
        "0 & 1\\\\\n",
        "1 & 0\n",
        "\\end{pmatrix} \\textrm{and} \\begin{pmatrix}\n",
        "1 & 0\\\\\n",
        "0 & -1\n",
        "\\end{pmatrix}$$\n",
        "\n",
        "(c) $$\\begin{pmatrix}\n",
        "1 & 1\\\\\n",
        "1 & -1\n",
        "\\end{pmatrix} \\textrm{and} \\begin{pmatrix}\n",
        "0 & 1\\\\\n",
        "1 & 0\n",
        "\\end{pmatrix}$$\n",
        "\n",
        "(d) $$\\begin{pmatrix}\n",
        "1 & 1\\\\\n",
        "1 & -1\n",
        "\\end{pmatrix} \\textrm{and} \\begin{pmatrix}\n",
        "1 & 0\\\\\n",
        "0 & 1\n",
        "\\end{pmatrix}$$\n",
        "\n",
        "(e) $$\\begin{pmatrix}\n",
        "2 & 0\\\\\n",
        "0 & -1\n",
        "\\end{pmatrix} \\textrm{and} \\begin{pmatrix}\n",
        "3 & 0\\\\\n",
        "0 & 2\n",
        "\\end{pmatrix}$$\n",
        "\n",
        "**Please let me know though what the values of AB and BA are and how\n",
        "you calculated those. Do you see any shortcuts?**\n",
        "\n",
        "Answer:"
      ],
      "metadata": {
        "id": "bhiz5sYVNr5x"
      }
    },
    {
      "cell_type": "markdown",
      "source": [
        "**Problem 5: What is (i.e., determine) a unit vector in\n",
        "$\\mathbb{R}^2$ that makes a $\\frac{\\pi}{4}$ angle with both the $x$- and $y$-axes?**\n",
        "\n",
        "Answer:"
      ],
      "metadata": {
        "id": "eYVovwtXN4r_"
      }
    },
    {
      "cell_type": "markdown",
      "source": [
        "**Problem 6:What is a real unit vector in\n",
        "$\\mathbb{R}^2$ orthogonal to$ \\begin{pmatrix}\n",
        "\\frac{1}{\\sqrt{3}}\\\\[0.5ex]\n",
        "\\frac{\\sqrt{2}}{\\sqrt{3}}\n",
        "\\end{pmatrix}$?**\n",
        "\n",
        "Answer:"
      ],
      "metadata": {
        "id": "mo5B7ZUUN7Zg"
      }
    },
    {
      "cell_type": "markdown",
      "source": [
        "**Problem 7: What is the inner product\n",
        "between the vectors $\\begin{pmatrix}\n",
        "\\frac{\\sqrt{3}}{2}\\\\[0.5ex]\n",
        "\\frac{1}{2}\n",
        "\\end{pmatrix} \\textrm{and}\n",
        "\\begin{pmatrix}\n",
        "\\frac{1}{2}\\\\[0.5ex]\n",
        "\\frac{\\sqrt{3}}{2}\n",
        "\\end{pmatrix}$ ?**\n",
        "\n",
        "Answer:"
      ],
      "metadata": {
        "id": "yE4OOckXOCzK"
      }
    },
    {
      "cell_type": "markdown",
      "source": [
        "**Problem 8: And what is the angle between the two vectors in degrees?**\n",
        "\n",
        "Answer:"
      ],
      "metadata": {
        "id": "FEXDRgYcOHcG"
      }
    },
    {
      "cell_type": "markdown",
      "source": [
        "**Problem 9: Determine the eigenvalues of the matrix $\n",
        "\\begin{pmatrix}\n",
        "0&1\\\\\n",
        "1&0\n",
        "\\end{pmatrix} $**\n",
        "\n",
        "Answer:"
      ],
      "metadata": {
        "id": "LxULig6NOLdf"
      }
    },
    {
      "cell_type": "markdown",
      "source": [
        "**Problem 10: Determine the eigenvector corresponding to the largest eigenvalue of the above matrix.**\n",
        "\n",
        "**What other eigenvectors does the matrix have?**\n",
        "\n",
        "Answer:"
      ],
      "metadata": {
        "id": "Vo8PiJvrOOND"
      }
    },
    {
      "cell_type": "code",
      "execution_count": null,
      "metadata": {
        "id": "sB50UpsKMJBv"
      },
      "outputs": [],
      "source": []
    }
  ]
}