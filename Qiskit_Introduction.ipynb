{
  "nbformat": 4,
  "nbformat_minor": 0,
  "metadata": {
    "colab": {
      "provenance": [],
      "authorship_tag": "ABX9TyOKoj1h7RpCOrfQBXTJdw+l",
      "include_colab_link": true
    },
    "kernelspec": {
      "name": "python3",
      "display_name": "Python 3"
    },
    "language_info": {
      "name": "python"
    }
  },
  "cells": [
    {
      "cell_type": "markdown",
      "metadata": {
        "id": "view-in-github",
        "colab_type": "text"
      },
      "source": [
        "<a href=\"https://colab.research.google.com/github/mccoy294/Quantum-Information-Science/blob/main/Qiskit_Introduction.ipynb\" target=\"_parent\"><img src=\"https://colab.research.google.com/assets/colab-badge.svg\" alt=\"Open In Colab\"/></a>"
      ]
    },
    {
      "cell_type": "markdown",
      "source": [
        "#Qiskit Introduction"
      ],
      "metadata": {
        "id": "8Fou95L_Xvan"
      }
    },
    {
      "cell_type": "markdown",
      "source": [
        "#Install Dependencies\n",
        "\n",
        "Using pip install Qiskit to download the Qiskit package"
      ],
      "metadata": {
        "id": "ObJyXO2qXzhD"
      }
    },
    {
      "cell_type": "code",
      "execution_count": null,
      "metadata": {
        "id": "EfnxNtXYXcth"
      },
      "outputs": [],
      "source": [
        "!pip install Qiskit qiskit-aer\n"
      ]
    },
    {
      "cell_type": "code",
      "source": [
        "#After Qiskit is installed, import all the packages\n",
        "from qiskit import *"
      ],
      "metadata": {
        "id": "d2NIbUw4Xg8k"
      },
      "execution_count": 2,
      "outputs": []
    },
    {
      "cell_type": "markdown",
      "source": [
        "#Create the Quantum Register and the Quantum Circuit"
      ],
      "metadata": {
        "id": "HMKlCdZGYyuY"
      }
    },
    {
      "cell_type": "code",
      "source": [
        "#Initialize the Qunatum Register\n",
        "qr = QuantumRegister(2)\n",
        "cr = ClassicalRegister(2)"
      ],
      "metadata": {
        "id": "NMEOw_s_X8XP"
      },
      "execution_count": 3,
      "outputs": []
    },
    {
      "cell_type": "code",
      "source": [
        "#Build the quantum circuit\n",
        "#This needs the number of qubits, and the number of classical bits\n",
        "\n",
        "circuit = QuantumCircuit(qr,cr)"
      ],
      "metadata": {
        "id": "zc9ngPnWZA1P"
      },
      "execution_count": 4,
      "outputs": []
    },
    {
      "cell_type": "code",
      "source": [
        "#Display the circuit to see if the QC was created correctly\n",
        "\n",
        "circuit.draw()"
      ],
      "metadata": {
        "colab": {
          "base_uri": "https://localhost:8080/",
          "height": 125
        },
        "id": "7dnX3AqeZIPY",
        "outputId": "ec77b669-6333-4b9e-fedf-ba76b73653c6"
      },
      "execution_count": 5,
      "outputs": [
        {
          "output_type": "execute_result",
          "data": {
            "text/plain": [
              "      \n",
              "q0_0: \n",
              "      \n",
              "q0_1: \n",
              "      \n",
              "c0: 2/\n",
              "      "
            ],
            "text/html": [
              "<pre style=\"word-wrap: normal;white-space: pre;background: #fff0;line-height: 1.1;font-family: &quot;Courier New&quot;,Courier,monospace\">      \n",
              "q0_0: \n",
              "      \n",
              "q0_1: \n",
              "      \n",
              "c0: 2/\n",
              "      </pre>"
            ]
          },
          "metadata": {},
          "execution_count": 5
        }
      ]
    },
    {
      "cell_type": "code",
      "source": [
        "# the quantum circuit has two qubits. they are indexed as qubits 0 and 1\n",
        "circuit.h(0)\n",
        "\n",
        "circuit.draw()"
      ],
      "metadata": {
        "colab": {
          "base_uri": "https://localhost:8080/",
          "height": 125
        },
        "id": "BvYr5sYSa8gy",
        "outputId": "812403e2-fdce-4907-9283-a8aa78f08d9d"
      },
      "execution_count": 6,
      "outputs": [
        {
          "output_type": "execute_result",
          "data": {
            "text/plain": [
              "      ┌───┐\n",
              "q0_0: ┤ H ├\n",
              "      └───┘\n",
              "q0_1: ─────\n",
              "           \n",
              "c0: 2/═════\n",
              "           "
            ],
            "text/html": [
              "<pre style=\"word-wrap: normal;white-space: pre;background: #fff0;line-height: 1.1;font-family: &quot;Courier New&quot;,Courier,monospace\">      ┌───┐\n",
              "q0_0: ┤ H ├\n",
              "      └───┘\n",
              "q0_1: ─────\n",
              "           \n",
              "c0: 2/═════\n",
              "           </pre>"
            ]
          },
          "metadata": {},
          "execution_count": 6
        }
      ]
    },
    {
      "cell_type": "code",
      "source": [
        "circuit.cx(0,1) # order is control, target\n",
        "\n",
        "circuit.draw()\n"
      ],
      "metadata": {
        "colab": {
          "base_uri": "https://localhost:8080/",
          "height": 125
        },
        "id": "zU7Va64Zh9xH",
        "outputId": "549bc908-7aca-419a-b0a3-beb6348eedeb"
      },
      "execution_count": 7,
      "outputs": [
        {
          "output_type": "execute_result",
          "data": {
            "text/plain": [
              "      ┌───┐     \n",
              "q0_0: ┤ H ├──■──\n",
              "      └───┘┌─┴─┐\n",
              "q0_1: ─────┤ X ├\n",
              "           └───┘\n",
              "c0: 2/══════════\n",
              "                "
            ],
            "text/html": [
              "<pre style=\"word-wrap: normal;white-space: pre;background: #fff0;line-height: 1.1;font-family: &quot;Courier New&quot;,Courier,monospace\">      ┌───┐     \n",
              "q0_0: ┤ H ├──■──\n",
              "      └───┘┌─┴─┐\n",
              "q0_1: ─────┤ X ├\n",
              "           └───┘\n",
              "c0: 2/══════════\n",
              "                </pre>"
            ]
          },
          "metadata": {},
          "execution_count": 7
        }
      ]
    },
    {
      "cell_type": "code",
      "source": [
        "circuit.measure([0,1], [0,1]) # qubits [0,1] are measured and results are stored in classical bits [0,1] in order\n",
        "circuit.draw()"
      ],
      "metadata": {
        "colab": {
          "base_uri": "https://localhost:8080/",
          "height": 125
        },
        "id": "AjgZiV5GiTOi",
        "outputId": "d4ca83af-90fe-4d6c-c329-8db0daf0e382"
      },
      "execution_count": 8,
      "outputs": [
        {
          "output_type": "execute_result",
          "data": {
            "text/plain": [
              "      ┌───┐     ┌─┐   \n",
              "q0_0: ┤ H ├──■──┤M├───\n",
              "      └───┘┌─┴─┐└╥┘┌─┐\n",
              "q0_1: ─────┤ X ├─╫─┤M├\n",
              "           └───┘ ║ └╥┘\n",
              "c0: 2/═══════════╩══╩═\n",
              "                 0  1 "
            ],
            "text/html": [
              "<pre style=\"word-wrap: normal;white-space: pre;background: #fff0;line-height: 1.1;font-family: &quot;Courier New&quot;,Courier,monospace\">      ┌───┐     ┌─┐   \n",
              "q0_0: ┤ H ├──■──┤M├───\n",
              "      └───┘┌─┴─┐└╥┘┌─┐\n",
              "q0_1: ─────┤ X ├─╫─┤M├\n",
              "           └───┘ ║ └╥┘\n",
              "c0: 2/═══════════╩══╩═\n",
              "                 0  1 </pre>"
            ]
          },
          "metadata": {},
          "execution_count": 8
        }
      ]
    },
    {
      "cell_type": "code",
      "source": [
        "simulator = Aer.get_backend('qasm_simulator')"
      ],
      "metadata": {
        "id": "8uXhkyvLigD4"
      },
      "execution_count": 9,
      "outputs": []
    },
    {
      "cell_type": "code",
      "source": [
        "result = execute(circuit, backend=simulator).result()"
      ],
      "metadata": {
        "id": "tdwcDp7bikW3"
      },
      "execution_count": 10,
      "outputs": []
    },
    {
      "cell_type": "code",
      "source": [
        "from qiskit.visualization import plot_histogram"
      ],
      "metadata": {
        "id": "zWsI2zBTi5oI"
      },
      "execution_count": 11,
      "outputs": []
    },
    {
      "cell_type": "code",
      "source": [
        "plot_histogram(result.get_counts(circuit))"
      ],
      "metadata": {
        "colab": {
          "base_uri": "https://localhost:8080/",
          "height": 461
        },
        "id": "wTp3ZIIJi7RA",
        "outputId": "9ddb6eaa-419f-4cc2-e337-ec1d58c97383"
      },
      "execution_count": 12,
      "outputs": [
        {
          "output_type": "execute_result",
          "data": {
            "text/plain": [
              "<Figure size 700x500 with 1 Axes>"
            ],
            "image/png": "[encoded data removed]"
          },
          "metadata": {},
          "execution_count": 12
        }
      ]
    }
  ]
}