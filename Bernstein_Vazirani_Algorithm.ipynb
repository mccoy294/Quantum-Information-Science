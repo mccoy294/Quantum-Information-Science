{
  "nbformat": 4,
  "nbformat_minor": 0,
  "metadata": {
    "colab": {
      "provenance": [],
      "toc_visible": true,
      "authorship_tag": "ABX9TyOODBQ//6t73Kqket5vhRJy",
      "include_colab_link": true
    },
    "kernelspec": {
      "name": "python3",
      "display_name": "Python 3"
    },
    "language_info": {
      "name": "python"
    }
  },
  "cells": [
    {
      "cell_type": "markdown",
      "metadata": {
        "id": "view-in-github",
        "colab_type": "text"
      },
      "source": [
        "<a href=\"https://colab.research.google.com/github/mccoy294/Quantum-Information-Science/blob/main/Bernstein_Vazirani_Algorithm.ipynb\" target=\"_parent\"><img src=\"https://colab.research.google.com/assets/colab-badge.svg\" alt=\"Open In Colab\"/></a>"
      ]
    },
    {
      "cell_type": "markdown",
      "source": [
        "#**Programming the Berstein-Vazirani Algorithm in Qiskit**"
      ],
      "metadata": {
        "id": "xZuFl2eQSrNA"
      }
    },
    {
      "cell_type": "markdown",
      "source": [
        "#Install Dependencies"
      ],
      "metadata": {
        "id": "owEQGYSLTDil"
      }
    },
    {
      "cell_type": "code",
      "source": [
        "#Install qiskit in order to use the required packages\n",
        "\n",
        "!pip install qiskit\n",
        "!pip install pylatexenc\n",
        "!pip install qiskit qiskit-aer\n"
      ],
      "metadata": {
        "id": "GyMQf1aHFDr8"
      },
      "execution_count": null,
      "outputs": []
    },
    {
      "cell_type": "markdown",
      "source": [
        "After the initial Qiskit package has been installed, import the remaining libraries for the rest of the computation. This includes:\n",
        "- All Qiskit libraries\n",
        "- Matplotlib inline\n",
        "- The Plot_histogram function from the qiskit.tools.visualization package"
      ],
      "metadata": {
        "id": "gTah0z1fHCRy"
      }
    },
    {
      "cell_type": "code",
      "source": [
        "#required libraries\n",
        "\n",
        "from qiskit import *\n",
        "%matplotlib inline\n",
        "from qiskit.tools.visualization import plot_histogram"
      ],
      "metadata": {
        "id": "Ku3gJ4DXGjkL"
      },
      "execution_count": 48,
      "outputs": []
    },
    {
      "cell_type": "markdown",
      "source": [
        "#Initial Setup\n",
        "\n",
        "Set a secret number for future guessing\n",
        "\n",
        "Afterwords, create a dynamic quantum circuit that has 2 inputs:\n",
        "\n",
        "1. The number of qubits = the length of the secret number + 1 for the computation qubit\n",
        "2. The number of classical bits for the storage of the results = the length of the secret number."
      ],
      "metadata": {
        "id": "2sVB6e7-TIOr"
      }
    },
    {
      "cell_type": "code",
      "source": [
        "#Set the secret number in a string of binary numbers\n",
        "secret_number = '1111001'"
      ],
      "metadata": {
        "id": "5FttDd4CGtqj"
      },
      "execution_count": 81,
      "outputs": []
    },
    {
      "cell_type": "code",
      "source": [
        "#Instantial a quantum circuit with the length of the secret number + 1 Qubits, and the length of the secret number classical bits\n",
        "circuit = QuantumCircuit(len(secret_number)+1, len(secret_number))\n"
      ],
      "metadata": {
        "id": "WvomjYYwHbKQ"
      },
      "execution_count": 83,
      "outputs": []
    },
    {
      "cell_type": "code",
      "source": [
        "#Transform all the Qubits into a superposition state using the Hadamard except the last Qubit\n",
        "circuit.h(range(len(secret_number)))\n",
        "\n",
        "#Add a not gate to the last qubit for CNOT comparrison later on and afterwards apply the Hadamard to continue the computation\n",
        "circuit.x(len(secret_number))\n",
        "circuit.h(len(secret_number))\n",
        "\n",
        "#Add a barrier to break up the division of the computation visually\n",
        "circuit.barrier()\n",
        "\n",
        "\"\"\"\n",
        "\n",
        "\n",
        "Iterate though the secret number and apply the number of CNOT gates to the associated Qubits to check for the number\n",
        "\n",
        "\n",
        "\"\"\"\n",
        "#Question to ask - doesn't this for operation have the same length of computation as the classical algorthim if it first has to check for the number of CNOT gates needed?\n",
        "for ii, yesno in enumerate(reversed(secret_number)):\n",
        "  if yesno ==\"1\":\n",
        "    circuit.cx(ii, len(secret_number))\n",
        "\n",
        "#Add a barrier to break up the division of the computation visually\n",
        "circuit.barrier()\n",
        "\n",
        "#Transform all the Qubits into a superposition state using the Hadamard except the last Qubit\n",
        "circuit.h(range(len(secret_number)))\n",
        "\n",
        "#Add a barrier to break up the division of the computation visually\n",
        "circuit.barrier()\n",
        "\n",
        "#Apply a measurement to collapse the circuit into a final answer\n",
        "circuit.measure(range(len(secret_number)),range(len(secret_number)))"
      ],
      "metadata": {
        "colab": {
          "base_uri": "https://localhost:8080/"
        },
        "id": "RLXPHpflTrur",
        "outputId": "4abed64e-6540-451e-e399-42058bba7199"
      },
      "execution_count": 84,
      "outputs": [
        {
          "output_type": "execute_result",
          "data": {
            "text/plain": [
              "<qiskit.circuit.instructionset.InstructionSet at 0x7ef903961390>"
            ]
          },
          "metadata": {},
          "execution_count": 84
        }
      ]
    },
    {
      "cell_type": "markdown",
      "source": [
        "#Draw the Circuit"
      ],
      "metadata": {
        "id": "h0UV0CXYWdfK"
      }
    },
    {
      "cell_type": "code",
      "source": [
        "#Draw the circuit\n",
        "\n",
        "circuit.draw()"
      ],
      "metadata": {
        "colab": {
          "base_uri": "https://localhost:8080/",
          "height": 310
        },
        "id": "cXP3sFE8Hvrd",
        "outputId": "73331bab-1a89-4783-e76b-1104c4397c9e"
      },
      "execution_count": 85,
      "outputs": [
        {
          "output_type": "execute_result",
          "data": {
            "text/plain": [
              "     ┌───┐      ░                           ░ ┌───┐ ░ ┌─┐                  \n",
              "q_0: ┤ H ├──────░───■───────────────────────░─┤ H ├─░─┤M├──────────────────\n",
              "     ├───┤      ░   │                       ░ ├───┤ ░ └╥┘┌─┐               \n",
              "q_1: ┤ H ├──────░───┼───────────────────────░─┤ H ├─░──╫─┤M├───────────────\n",
              "     ├───┤      ░   │                       ░ ├───┤ ░  ║ └╥┘┌─┐            \n",
              "q_2: ┤ H ├──────░───┼───────────────────────░─┤ H ├─░──╫──╫─┤M├────────────\n",
              "     ├───┤      ░   │                       ░ ├───┤ ░  ║  ║ └╥┘┌─┐         \n",
              "q_3: ┤ H ├──────░───┼────■──────────────────░─┤ H ├─░──╫──╫──╫─┤M├─────────\n",
              "     ├───┤      ░   │    │                  ░ ├───┤ ░  ║  ║  ║ └╥┘┌─┐      \n",
              "q_4: ┤ H ├──────░───┼────┼────■─────────────░─┤ H ├─░──╫──╫──╫──╫─┤M├──────\n",
              "     ├───┤      ░   │    │    │             ░ ├───┤ ░  ║  ║  ║  ║ └╥┘┌─┐   \n",
              "q_5: ┤ H ├──────░───┼────┼────┼────■────────░─┤ H ├─░──╫──╫──╫──╫──╫─┤M├───\n",
              "     ├───┤      ░   │    │    │    │        ░ ├───┤ ░  ║  ║  ║  ║  ║ └╥┘┌─┐\n",
              "q_6: ┤ H ├──────░───┼────┼────┼────┼────■───░─┤ H ├─░──╫──╫──╫──╫──╫──╫─┤M├\n",
              "     ├───┤┌───┐ ░ ┌─┴─┐┌─┴─┐┌─┴─┐┌─┴─┐┌─┴─┐ ░ └───┘ ░  ║  ║  ║  ║  ║  ║ └╥┘\n",
              "q_7: ┤ X ├┤ H ├─░─┤ X ├┤ X ├┤ X ├┤ X ├┤ X ├─░───────░──╫──╫──╫──╫──╫──╫──╫─\n",
              "     └───┘└───┘ ░ └───┘└───┘└───┘└───┘└───┘ ░       ░  ║  ║  ║  ║  ║  ║  ║ \n",
              "c: 7/══════════════════════════════════════════════════╩══╩══╩══╩══╩══╩══╩═\n",
              "                                                       0  1  2  3  4  5  6 "
            ],
            "text/html": [
              "<pre style=\"word-wrap: normal;white-space: pre;background: #fff0;line-height: 1.1;font-family: &quot;Courier New&quot;,Courier,monospace\">     ┌───┐      ░                           ░ ┌───┐ ░ ┌─┐                  \n",
              "q_0: ┤ H ├──────░───■───────────────────────░─┤ H ├─░─┤M├──────────────────\n",
              "     ├───┤      ░   │                       ░ ├───┤ ░ └╥┘┌─┐               \n",
              "q_1: ┤ H ├──────░───┼───────────────────────░─┤ H ├─░──╫─┤M├───────────────\n",
              "     ├───┤      ░   │                       ░ ├───┤ ░  ║ └╥┘┌─┐            \n",
              "q_2: ┤ H ├──────░───┼───────────────────────░─┤ H ├─░──╫──╫─┤M├────────────\n",
              "     ├───┤      ░   │                       ░ ├───┤ ░  ║  ║ └╥┘┌─┐         \n",
              "q_3: ┤ H ├──────░───┼────■──────────────────░─┤ H ├─░──╫──╫──╫─┤M├─────────\n",
              "     ├───┤      ░   │    │                  ░ ├───┤ ░  ║  ║  ║ └╥┘┌─┐      \n",
              "q_4: ┤ H ├──────░───┼────┼────■─────────────░─┤ H ├─░──╫──╫──╫──╫─┤M├──────\n",
              "     ├───┤      ░   │    │    │             ░ ├───┤ ░  ║  ║  ║  ║ └╥┘┌─┐   \n",
              "q_5: ┤ H ├──────░───┼────┼────┼────■────────░─┤ H ├─░──╫──╫──╫──╫──╫─┤M├───\n",
              "     ├───┤      ░   │    │    │    │        ░ ├───┤ ░  ║  ║  ║  ║  ║ └╥┘┌─┐\n",
              "q_6: ┤ H ├──────░───┼────┼────┼────┼────■───░─┤ H ├─░──╫──╫──╫──╫──╫──╫─┤M├\n",
              "     ├───┤┌───┐ ░ ┌─┴─┐┌─┴─┐┌─┴─┐┌─┴─┐┌─┴─┐ ░ └───┘ ░  ║  ║  ║  ║  ║  ║ └╥┘\n",
              "q_7: ┤ X ├┤ H ├─░─┤ X ├┤ X ├┤ X ├┤ X ├┤ X ├─░───────░──╫──╫──╫──╫──╫──╫──╫─\n",
              "     └───┘└───┘ ░ └───┘└───┘└───┘└───┘└───┘ ░       ░  ║  ║  ║  ║  ║  ║  ║ \n",
              "c: 7/══════════════════════════════════════════════════╩══╩══╩══╩══╩══╩══╩═\n",
              "                                                       0  1  2  3  4  5  6 </pre>"
            ]
          },
          "metadata": {},
          "execution_count": 85
        }
      ]
    },
    {
      "cell_type": "markdown",
      "source": [
        "#Run the simulation\n",
        "\n",
        "Use the Qasm Simulator: Which stands for the Quantum Assembly Language"
      ],
      "metadata": {
        "id": "aQk0I6XUWg0s"
      }
    },
    {
      "cell_type": "code",
      "source": [
        "#Use the Qasm simulator as the backend to run the algorthim just developed\n",
        "simulator = Aer.get_backend('qasm_simulator')\n",
        "\n",
        "\"\"\"\n",
        "Store the result of the computation by using the execute function.\n",
        "\n",
        "This takes:\n",
        "1) The Quantum circuit that was built\n",
        "2) The simulator used to test the quantum circuit\n",
        "3) The number of times you want to run the simulated circuit\n",
        "\n",
        "\"\"\"\n",
        "result = execute(circuit, backend = simulator, shots = 1).result()\n",
        "\n",
        "#Get the counts of all the stored outcomes, since results may vary based on multiple shots on the true run, not simulated run\n",
        "counts = result.get_counts()\n",
        "print(counts)"
      ],
      "metadata": {
        "colab": {
          "base_uri": "https://localhost:8080/"
        },
        "id": "R28_zoDBIgxO",
        "outputId": "1844fe42-d8a8-4e3a-b6d0-65f7ffca96ca"
      },
      "execution_count": 87,
      "outputs": [
        {
          "output_type": "stream",
          "name": "stdout",
          "text": [
            "{'1111001': 1}\n"
          ]
        }
      ]
    },
    {
      "cell_type": "markdown",
      "source": [
        "#Visualize the results"
      ],
      "metadata": {
        "id": "RrtdCG1-XBWP"
      }
    },
    {
      "cell_type": "code",
      "source": [
        "#Visualize the counts from the results. Plot them in a histogram to see the most likely outcome from the circuit\n",
        "\n",
        "from qiskit.visualization import plot_histogram\n",
        "plot_histogram(result.get_counts(circuit))"
      ],
      "metadata": {
        "colab": {
          "base_uri": "https://localhost:8080/",
          "height": 519
        },
        "id": "vcNXIEpNNehK",
        "outputId": "23d9974a-6a2c-4f43-acd1-2479eedcfca4"
      },
      "execution_count": 88,
      "outputs": [
        {
          "output_type": "execute_result",
          "data": {
            "text/plain": [
              "<Figure size 700x500 with 1 Axes>"
            ],
            "image/png": "[encoded data removed]"
          },
          "metadata": {},
          "execution_count": 88
        }
      ]
    },
    {
      "cell_type": "code",
      "source": [],
      "metadata": {
        "id": "wpq5syz-Shim"
      },
      "execution_count": null,
      "outputs": []
    }
  ]
}